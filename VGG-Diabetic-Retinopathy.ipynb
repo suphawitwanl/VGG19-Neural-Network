{
  "nbformat": 4,
  "nbformat_minor": 0,
  "metadata": {
    "colab": {
      "provenance": [],
      "gpuType": "T4"
    },
    "kernelspec": {
      "name": "python3",
      "display_name": "Python 3"
    },
    "language_info": {
      "name": "python"
    },
    "accelerator": "GPU"
  },
  "cells": [
    {
      "cell_type": "code",
      "source": [
        "import gdown\n",
        "\n",
        "# Replace 'your_google_drive_link' with the actual link of the file you want to download\n",
        "#300*300    1Wl-6RT-k-XaLaznkKeHYhqGPOdPhSZTW\n",
        "#600*600    1WsmMYCz5poZYgdhEpwlW3n1KLyYjbShw\n",
        "#300*300 color    1WzaZ88vYQ50Io9-2GTVXOzFMRD5zOmGj\n",
        "google_drive_link = f'https://drive.google.com/uc?id=1WzaZ88vYQ50Io9-2GTVXOzFMRD5zOmGj'\n",
        "\n",
        "# Specify the output file name\n",
        "output_file = 'images_dataset.zip'\n",
        "\n",
        "# Download the file\n",
        "gdown.download(google_drive_link, output_file, quiet=False)"
      ],
      "metadata": {
        "colab": {
          "base_uri": "https://localhost:8080/",
          "height": 122
        },
        "id": "VeNJ3dYtSNqY",
        "outputId": "1cb40aed-3df1-4a8f-fd11-9cabeea8497e"
      },
      "execution_count": null,
      "outputs": [
        {
          "output_type": "stream",
          "name": "stderr",
          "text": [
            "Downloading...\n",
            "From (original): https://drive.google.com/uc?id=1WzaZ88vYQ50Io9-2GTVXOzFMRD5zOmGj\n",
            "From (redirected): https://drive.google.com/uc?id=1WzaZ88vYQ50Io9-2GTVXOzFMRD5zOmGj&confirm=t&uuid=6a832ca9-273b-405b-a85e-79cb24e91941\n",
            "To: /content/images_dataset.zip\n",
            "100%|██████████| 97.7M/97.7M [00:06<00:00, 15.6MB/s]\n"
          ]
        },
        {
          "output_type": "execute_result",
          "data": {
            "text/plain": [
              "'images_dataset.zip'"
            ],
            "application/vnd.google.colaboratory.intrinsic+json": {
              "type": "string"
            }
          },
          "metadata": {},
          "execution_count": 1
        }
      ]
    },
    {
      "cell_type": "code",
      "source": [
        "#Unzip file\n",
        "import zipfile\n",
        "\n",
        "def unzip_file(zip_path, extract_path):\n",
        "    with zipfile.ZipFile(zip_path, 'r') as zip_ref:\n",
        "        zip_ref.extractall(extract_path)\n",
        "\n",
        "zip_file_path = '/content/images_dataset.zip'\n",
        "extracted_folder_path = '/content/extracted_images'\n",
        "\n",
        "unzip_file(zip_file_path, extracted_folder_path)"
      ],
      "metadata": {
        "id": "u61qhRS736Wj"
      },
      "execution_count": null,
      "outputs": []
    },
    {
      "cell_type": "code",
      "execution_count": null,
      "metadata": {
        "id": "BZOZl7k8Nkro"
      },
      "outputs": [],
      "source": [
        "import tensorflow as tf\n",
        "from tensorflow.keras.models import Sequential\n",
        "from tensorflow.keras.layers import Dense, Activation, Flatten, Dropout\n",
        "from tensorflow.keras.layers import Conv2D, MaxPooling2D\n",
        "from tensorflow.keras.datasets import cifar10 # subroutines for fetching the CIFAR-10 dataset\n",
        "from tensorflow.keras.models import Model # basic class for specifying and training a neural network\n",
        "from tensorflow import keras\n",
        "import numpy as np\n",
        "import pandas as pd\n",
        "import matplotlib.pyplot as plt\n",
        "import cv2 #pip3 install opencv-python\n",
        "import urllib\n",
        "import urllib\n",
        "import seaborn as sns\n",
        "from sklearn.metrics import confusion_matrix,classification_report\n",
        "from google.colab.patches import cv2_imshow"
      ]
    },
    {
      "cell_type": "code",
      "source": [
        "data = pd.read_csv(\"/content/extracted_images/Train.csv\")\n",
        "#print(data)\n",
        "\n",
        "#filter Only class 0  4\n",
        "data = data[(data['diagnosis'] == 0) | (data['diagnosis'] == 4)]\n",
        "\n",
        "#change class 4 to number 1\n",
        "data.loc[data['diagnosis'] == 4, 'diagnosis'] = 1\n",
        "#print(data)\n",
        "\n",
        "# Randomly select 'diagnosis'\n",
        "n = 300\n",
        "random_seed = 42\n",
        "diagnosis_1_rows = data[data['diagnosis'] == 1].sample(n=n, random_state=random_seed)\n",
        "diagnosis_0_rows = data[data['diagnosis'] == 0].sample(n=n, random_state=random_seed)\n",
        "\n",
        "# Combine the selected rows\n",
        "data_selected = pd.concat([diagnosis_1_rows, diagnosis_0_rows])\n",
        "\n",
        "# Display the selected rows\n",
        "print(\"\\nSelected Rows:\")\n",
        "print(data_selected)\n",
        "print(data_selected['id_code'].iloc[0])"
      ],
      "metadata": {
        "colab": {
          "base_uri": "https://localhost:8080/"
        },
        "id": "GSPxDHGVP-Hh",
        "outputId": "df0e7d92-9411-4c05-deba-9ac28f1fd89d"
      },
      "execution_count": null,
      "outputs": [
        {
          "output_type": "stream",
          "name": "stdout",
          "text": [
            "\n",
            "Selected Rows:\n",
            "         id_code  diagnosis\n",
            "1063  Train_1064          1\n",
            "3692  Train_3693          1\n",
            "268    Train_269          1\n",
            "3254  Train_3255          1\n",
            "94      Train_95          1\n",
            "...          ...        ...\n",
            "2529  Train_2530          0\n",
            "4041  Train_4042          0\n",
            "1241  Train_1242          0\n",
            "1503  Train_1504          0\n",
            "1838  Train_1839          0\n",
            "\n",
            "[600 rows x 2 columns]\n",
            "Train_1064\n"
          ]
        }
      ]
    },
    {
      "cell_type": "code",
      "source": [
        "#convert images to matrix\n",
        "from PIL import Image\n",
        "\n",
        "def image_to_matrix(image_name):\n",
        "  all_matrices = []\n",
        "\n",
        "  for file_name in image_name.to_list():\n",
        "      # Create the full path to the image file\n",
        "      image_path = f'/content/extracted_images/images_color_300/{file_name}.jpg'\n",
        "\n",
        "      # Open the grayscale image\n",
        "      image = Image.open(image_path)\n",
        "\n",
        "      # Convert the image to a NumPy array\n",
        "      image_matrix = np.array(image)\n",
        "\n",
        "      # Append the matrix to the list\n",
        "      all_matrices.append(image_matrix)\n",
        "\n",
        "  # Convert the list of matrices to a NumPy array\n",
        "  diabetic_retinopathy_data = np.array(all_matrices)\n",
        "  return diabetic_retinopathy_data\n"
      ],
      "metadata": {
        "id": "aAlay4uSR0CD"
      },
      "execution_count": null,
      "outputs": []
    },
    {
      "cell_type": "code",
      "source": [
        "class_names = [\"No\", \"Yes\"]\n",
        "num_classes = len(class_names)\n",
        "\n",
        "\n",
        "batch_size = 128 # in each iteration, we consider 32 training examples at once\n",
        "num_epochs = 128 # (we iterate 200 times over the entire training set) change to 10\n",
        "\n",
        "'''\n",
        "kernel_size = 3 # we will use 3x3 kernels throughout\n",
        "pool_size = 2 # we will use 2x2 pooling throughout\n",
        "conv_depth_1 = 32 # we will initially have 32 kernels per conv. layer...\n",
        "conv_depth_2 = 64 # ...switching to 64 after the first pooling layer\n",
        "drop_prob_1 = 0.25 # dropout after pooling with probability 0.25\n",
        "drop_prob_2 = 0.5 # dropout in the FC layer with probability 0.5\n",
        "hidden_size = 512 # the FC layer will have 512 neurons\n",
        "'''"
      ],
      "metadata": {
        "colab": {
          "base_uri": "https://localhost:8080/",
          "height": 88
        },
        "id": "YbGYJVmMhOxU",
        "outputId": "fa8add02-f62e-474a-dacd-e113059d1df2"
      },
      "execution_count": null,
      "outputs": [
        {
          "output_type": "execute_result",
          "data": {
            "text/plain": [
              "'\\nkernel_size = 3 # we will use 3x3 kernels throughout\\npool_size = 2 # we will use 2x2 pooling throughout\\nconv_depth_1 = 32 # we will initially have 32 kernels per conv. layer...\\nconv_depth_2 = 64 # ...switching to 64 after the first pooling layer\\ndrop_prob_1 = 0.25 # dropout after pooling with probability 0.25\\ndrop_prob_2 = 0.5 # dropout in the FC layer with probability 0.5\\nhidden_size = 512 # the FC layer will have 512 neurons\\n'"
            ],
            "application/vnd.google.colaboratory.intrinsic+json": {
              "type": "string"
            }
          },
          "metadata": {},
          "execution_count": 6
        }
      ]
    },
    {
      "cell_type": "code",
      "source": [
        "#split data\n",
        "from sklearn.model_selection import train_test_split\n",
        "\n",
        "X = data_selected['id_code']\n",
        "Y = data_selected['diagnosis']\n",
        "\n",
        "X_train_raw, X_test_raw, y_train_raw, y_test_raw = train_test_split(X, Y, test_size=0.3, random_state=random_seed)\n",
        "\n",
        "X_train = image_to_matrix(X_train_raw)\n",
        "print(X_train.shape)\n",
        "X_test = image_to_matrix(X_test_raw)\n",
        "y_train = y_train_raw.to_numpy()\n",
        "y_test = y_test_raw.to_numpy()\n",
        "print(y_train[0])\n",
        "\n",
        "X_train = X_train.astype('float32')\n",
        "X_test = X_test.astype('float32')\n",
        "\n",
        "Y_train = tf.keras.utils.to_categorical(y_train, 2) # One-hot encode the labels\n",
        "Y_test = tf.keras.utils.to_categorical(y_test, 2) # One-hot encode the labels\n",
        "class_names[np.argmax (Y_train[0])]"
      ],
      "metadata": {
        "colab": {
          "base_uri": "https://localhost:8080/",
          "height": 70
        },
        "id": "o7IoQNokUzIR",
        "outputId": "43d6ac70-7bf6-4e8a-c1ba-63b625d1ba0c"
      },
      "execution_count": null,
      "outputs": [
        {
          "output_type": "stream",
          "name": "stdout",
          "text": [
            "(420, 300, 300, 3)\n",
            "1\n"
          ]
        },
        {
          "output_type": "execute_result",
          "data": {
            "text/plain": [
              "'Yes'"
            ],
            "application/vnd.google.colaboratory.intrinsic+json": {
              "type": "string"
            }
          },
          "metadata": {},
          "execution_count": 7
        }
      ]
    },
    {
      "cell_type": "markdown",
      "source": [
        "# **Using transfered Knowledge (Pretrained model)**"
      ],
      "metadata": {
        "id": "b9-X8M2ULSM4"
      }
    },
    {
      "cell_type": "code",
      "source": [
        "from keras.applications import VGG19\n",
        "vgg = VGG19(include_top= False, weights = \"imagenet\", input_shape=(300,300,3))\n",
        "vgg_layer_list = vgg.layers\n",
        "\n",
        "\n",
        "model = Sequential ()\n",
        "\n",
        "for layer in vgg_layer_list:\n",
        "    model.add(layer)\n",
        "\n",
        "for layer in model.layers:\n",
        "    layer.trainable = False\n",
        "\n",
        "\n",
        "model.add(Flatten())\n",
        "\n",
        "# Fully connected layer. 1 hidden layer consisting of 512 nodes\n",
        "model.add(Dense(256, name='Dense1'))\n",
        "model.add(Activation('tanh'))\n",
        "model.add(Dropout(0.3))\n",
        "model.add(Dense(num_classes, activation='softmax', name='Dense2'))\n",
        "print(model.summary())\n",
        "\n",
        "model.compile(loss='categorical_crossentropy', # using the cross-entropy loss function\n",
        "              optimizer=keras.optimizers.Adam(learning_rate=0.001), # using the Adam optimiser\n",
        "              metrics=['accuracy']) # reporting the accuracy"
      ],
      "metadata": {
        "colab": {
          "base_uri": "https://localhost:8080/"
        },
        "id": "AKJxZI5wLXjJ",
        "outputId": "fb0e4071-aa23-4442-c6d1-fa33d560768d"
      },
      "execution_count": null,
      "outputs": [
        {
          "output_type": "stream",
          "name": "stdout",
          "text": [
            "Downloading data from https://storage.googleapis.com/tensorflow/keras-applications/vgg19/vgg19_weights_tf_dim_ordering_tf_kernels_notop.h5\n",
            "80134624/80134624 [==============================] - 1s 0us/step\n",
            "Model: \"sequential\"\n",
            "_________________________________________________________________\n",
            " Layer (type)                Output Shape              Param #   \n",
            "=================================================================\n",
            " block1_conv1 (Conv2D)       (None, 300, 300, 64)      1792      \n",
            "                                                                 \n",
            " block1_conv2 (Conv2D)       (None, 300, 300, 64)      36928     \n",
            "                                                                 \n",
            " block1_pool (MaxPooling2D)  (None, 150, 150, 64)      0         \n",
            "                                                                 \n",
            " block2_conv1 (Conv2D)       (None, 150, 150, 128)     73856     \n",
            "                                                                 \n",
            " block2_conv2 (Conv2D)       (None, 150, 150, 128)     147584    \n",
            "                                                                 \n",
            " block2_pool (MaxPooling2D)  (None, 75, 75, 128)       0         \n",
            "                                                                 \n",
            " block3_conv1 (Conv2D)       (None, 75, 75, 256)       295168    \n",
            "                                                                 \n",
            " block3_conv2 (Conv2D)       (None, 75, 75, 256)       590080    \n",
            "                                                                 \n",
            " block3_conv3 (Conv2D)       (None, 75, 75, 256)       590080    \n",
            "                                                                 \n",
            " block3_conv4 (Conv2D)       (None, 75, 75, 256)       590080    \n",
            "                                                                 \n",
            " block3_pool (MaxPooling2D)  (None, 37, 37, 256)       0         \n",
            "                                                                 \n",
            " block4_conv1 (Conv2D)       (None, 37, 37, 512)       1180160   \n",
            "                                                                 \n",
            " block4_conv2 (Conv2D)       (None, 37, 37, 512)       2359808   \n",
            "                                                                 \n",
            " block4_conv3 (Conv2D)       (None, 37, 37, 512)       2359808   \n",
            "                                                                 \n",
            " block4_conv4 (Conv2D)       (None, 37, 37, 512)       2359808   \n",
            "                                                                 \n",
            " block4_pool (MaxPooling2D)  (None, 18, 18, 512)       0         \n",
            "                                                                 \n",
            " block5_conv1 (Conv2D)       (None, 18, 18, 512)       2359808   \n",
            "                                                                 \n",
            " block5_conv2 (Conv2D)       (None, 18, 18, 512)       2359808   \n",
            "                                                                 \n",
            " block5_conv3 (Conv2D)       (None, 18, 18, 512)       2359808   \n",
            "                                                                 \n",
            " block5_conv4 (Conv2D)       (None, 18, 18, 512)       2359808   \n",
            "                                                                 \n",
            " block5_pool (MaxPooling2D)  (None, 9, 9, 512)         0         \n",
            "                                                                 \n",
            " flatten (Flatten)           (None, 41472)             0         \n",
            "                                                                 \n",
            " Dense1 (Dense)              (None, 256)               10617088  \n",
            "                                                                 \n",
            " activation (Activation)     (None, 256)               0         \n",
            "                                                                 \n",
            " dropout (Dropout)           (None, 256)               0         \n",
            "                                                                 \n",
            " Dense2 (Dense)              (None, 2)                 514       \n",
            "                                                                 \n",
            "=================================================================\n",
            "Total params: 30641986 (116.89 MB)\n",
            "Trainable params: 10617602 (40.50 MB)\n",
            "Non-trainable params: 20024384 (76.39 MB)\n",
            "_________________________________________________________________\n",
            "None\n"
          ]
        }
      ]
    },
    {
      "cell_type": "code",
      "source": [
        "history = model.fit(X_train, Y_train, batch_size=batch_size, epochs=num_epochs,\n",
        "          verbose=1, validation_split=0.1) # ...holding out 10% of the data for validation"
      ],
      "metadata": {
        "colab": {
          "base_uri": "https://localhost:8080/"
        },
        "id": "3cwKMHOBkNPR",
        "outputId": "f031ca68-253e-4df9-903f-dba96d92d595"
      },
      "execution_count": null,
      "outputs": [
        {
          "output_type": "stream",
          "name": "stdout",
          "text": [
            "Epoch 1/128\n",
            "3/3 [==============================] - 94s 28s/step - loss: 5.0272 - accuracy: 0.4974 - val_loss: 3.7368 - val_accuracy: 0.4762\n",
            "Epoch 2/128\n",
            "3/3 [==============================] - 4s 2s/step - loss: 2.7226 - accuracy: 0.4815 - val_loss: 1.4332 - val_accuracy: 0.4762\n",
            "Epoch 3/128\n",
            "3/3 [==============================] - 4s 1s/step - loss: 1.1495 - accuracy: 0.5397 - val_loss: 0.5929 - val_accuracy: 0.5238\n",
            "Epoch 4/128\n",
            "3/3 [==============================] - 4s 2s/step - loss: 0.5832 - accuracy: 0.6958 - val_loss: 0.4664 - val_accuracy: 0.8095\n",
            "Epoch 5/128\n",
            "3/3 [==============================] - 4s 1s/step - loss: 0.5422 - accuracy: 0.7222 - val_loss: 0.5083 - val_accuracy: 0.7619\n",
            "Epoch 6/128\n",
            "3/3 [==============================] - 4s 2s/step - loss: 0.4882 - accuracy: 0.7646 - val_loss: 0.4665 - val_accuracy: 0.7619\n",
            "Epoch 7/128\n",
            "3/3 [==============================] - 4s 1s/step - loss: 0.5147 - accuracy: 0.7566 - val_loss: 0.4201 - val_accuracy: 0.8095\n",
            "Epoch 8/128\n",
            "3/3 [==============================] - 4s 1s/step - loss: 0.4778 - accuracy: 0.7619 - val_loss: 0.3676 - val_accuracy: 0.8571\n",
            "Epoch 9/128\n",
            "3/3 [==============================] - 4s 2s/step - loss: 0.4191 - accuracy: 0.8042 - val_loss: 0.3281 - val_accuracy: 0.8571\n",
            "Epoch 10/128\n",
            "3/3 [==============================] - 4s 2s/step - loss: 0.3076 - accuracy: 0.8995 - val_loss: 0.3116 - val_accuracy: 0.8810\n",
            "Epoch 11/128\n",
            "3/3 [==============================] - 4s 2s/step - loss: 0.3591 - accuracy: 0.8333 - val_loss: 0.3083 - val_accuracy: 0.8571\n",
            "Epoch 12/128\n",
            "3/3 [==============================] - 4s 2s/step - loss: 0.3390 - accuracy: 0.8280 - val_loss: 0.2902 - val_accuracy: 0.9048\n",
            "Epoch 13/128\n",
            "3/3 [==============================] - 4s 2s/step - loss: 0.2790 - accuracy: 0.8915 - val_loss: 0.2641 - val_accuracy: 0.9286\n",
            "Epoch 14/128\n",
            "3/3 [==============================] - 5s 2s/step - loss: 0.2862 - accuracy: 0.8836 - val_loss: 0.2627 - val_accuracy: 0.9524\n",
            "Epoch 15/128\n",
            "3/3 [==============================] - 4s 2s/step - loss: 0.2619 - accuracy: 0.8915 - val_loss: 0.2743 - val_accuracy: 0.9286\n",
            "Epoch 16/128\n",
            "3/3 [==============================] - 5s 2s/step - loss: 0.2652 - accuracy: 0.8968 - val_loss: 0.3024 - val_accuracy: 0.9048\n",
            "Epoch 17/128\n",
            "3/3 [==============================] - 4s 2s/step - loss: 0.2550 - accuracy: 0.8942 - val_loss: 0.2837 - val_accuracy: 0.9048\n",
            "Epoch 18/128\n",
            "3/3 [==============================] - 4s 2s/step - loss: 0.2575 - accuracy: 0.8968 - val_loss: 0.2808 - val_accuracy: 0.9048\n",
            "Epoch 19/128\n",
            "3/3 [==============================] - 4s 2s/step - loss: 0.2432 - accuracy: 0.8995 - val_loss: 0.2839 - val_accuracy: 0.9286\n",
            "Epoch 20/128\n",
            "3/3 [==============================] - 4s 2s/step - loss: 0.2642 - accuracy: 0.8862 - val_loss: 0.2644 - val_accuracy: 0.9048\n",
            "Epoch 21/128\n",
            "3/3 [==============================] - 4s 2s/step - loss: 0.2481 - accuracy: 0.8889 - val_loss: 0.2546 - val_accuracy: 0.8810\n",
            "Epoch 22/128\n",
            "3/3 [==============================] - 4s 2s/step - loss: 0.2132 - accuracy: 0.9233 - val_loss: 0.2835 - val_accuracy: 0.9286\n",
            "Epoch 23/128\n",
            "3/3 [==============================] - 4s 2s/step - loss: 0.1628 - accuracy: 0.9392 - val_loss: 0.2912 - val_accuracy: 0.9286\n",
            "Epoch 24/128\n",
            "3/3 [==============================] - 4s 2s/step - loss: 0.2037 - accuracy: 0.9259 - val_loss: 0.2755 - val_accuracy: 0.9286\n",
            "Epoch 25/128\n",
            "3/3 [==============================] - 4s 2s/step - loss: 0.2053 - accuracy: 0.9153 - val_loss: 0.2753 - val_accuracy: 0.9048\n",
            "Epoch 26/128\n",
            "3/3 [==============================] - 4s 2s/step - loss: 0.1917 - accuracy: 0.9392 - val_loss: 0.2752 - val_accuracy: 0.9286\n",
            "Epoch 27/128\n",
            "3/3 [==============================] - 4s 2s/step - loss: 0.1575 - accuracy: 0.9392 - val_loss: 0.2865 - val_accuracy: 0.9286\n",
            "Epoch 28/128\n",
            "3/3 [==============================] - 4s 2s/step - loss: 0.1319 - accuracy: 0.9577 - val_loss: 0.2453 - val_accuracy: 0.9286\n",
            "Epoch 29/128\n",
            "3/3 [==============================] - 4s 2s/step - loss: 0.1568 - accuracy: 0.9444 - val_loss: 0.2407 - val_accuracy: 0.9286\n",
            "Epoch 30/128\n",
            "3/3 [==============================] - 4s 2s/step - loss: 0.1668 - accuracy: 0.9418 - val_loss: 0.2584 - val_accuracy: 0.9286\n",
            "Epoch 31/128\n",
            "3/3 [==============================] - 4s 2s/step - loss: 0.1649 - accuracy: 0.9392 - val_loss: 0.2556 - val_accuracy: 0.9286\n",
            "Epoch 32/128\n",
            "3/3 [==============================] - 4s 2s/step - loss: 0.1425 - accuracy: 0.9497 - val_loss: 0.2430 - val_accuracy: 0.9524\n",
            "Epoch 33/128\n",
            "3/3 [==============================] - 4s 2s/step - loss: 0.1223 - accuracy: 0.9630 - val_loss: 0.2360 - val_accuracy: 0.9286\n",
            "Epoch 34/128\n",
            "3/3 [==============================] - 4s 2s/step - loss: 0.1323 - accuracy: 0.9471 - val_loss: 0.2488 - val_accuracy: 0.9524\n",
            "Epoch 35/128\n",
            "3/3 [==============================] - 4s 2s/step - loss: 0.1130 - accuracy: 0.9603 - val_loss: 0.2244 - val_accuracy: 0.9524\n",
            "Epoch 36/128\n",
            "3/3 [==============================] - 4s 2s/step - loss: 0.1176 - accuracy: 0.9656 - val_loss: 0.2341 - val_accuracy: 0.9524\n",
            "Epoch 37/128\n",
            "3/3 [==============================] - 4s 2s/step - loss: 0.1209 - accuracy: 0.9550 - val_loss: 0.2333 - val_accuracy: 0.9524\n",
            "Epoch 38/128\n",
            "3/3 [==============================] - 4s 2s/step - loss: 0.0976 - accuracy: 0.9656 - val_loss: 0.2334 - val_accuracy: 0.9524\n",
            "Epoch 39/128\n",
            "3/3 [==============================] - 4s 2s/step - loss: 0.1144 - accuracy: 0.9683 - val_loss: 0.2516 - val_accuracy: 0.9524\n",
            "Epoch 40/128\n",
            "3/3 [==============================] - 4s 2s/step - loss: 0.1134 - accuracy: 0.9656 - val_loss: 0.2743 - val_accuracy: 0.9286\n",
            "Epoch 41/128\n",
            "3/3 [==============================] - 4s 2s/step - loss: 0.1207 - accuracy: 0.9656 - val_loss: 0.2821 - val_accuracy: 0.9286\n",
            "Epoch 42/128\n",
            "3/3 [==============================] - 4s 2s/step - loss: 0.1161 - accuracy: 0.9630 - val_loss: 0.2775 - val_accuracy: 0.9286\n",
            "Epoch 43/128\n",
            "3/3 [==============================] - 4s 2s/step - loss: 0.1012 - accuracy: 0.9656 - val_loss: 0.2793 - val_accuracy: 0.9286\n",
            "Epoch 44/128\n",
            "3/3 [==============================] - 4s 2s/step - loss: 0.1133 - accuracy: 0.9656 - val_loss: 0.2820 - val_accuracy: 0.9048\n",
            "Epoch 45/128\n",
            "3/3 [==============================] - 4s 2s/step - loss: 0.0909 - accuracy: 0.9683 - val_loss: 0.2694 - val_accuracy: 0.9048\n",
            "Epoch 46/128\n",
            "3/3 [==============================] - 4s 2s/step - loss: 0.1008 - accuracy: 0.9630 - val_loss: 0.2617 - val_accuracy: 0.9286\n",
            "Epoch 47/128\n",
            "3/3 [==============================] - 4s 2s/step - loss: 0.0868 - accuracy: 0.9709 - val_loss: 0.2478 - val_accuracy: 0.9286\n",
            "Epoch 48/128\n",
            "3/3 [==============================] - 4s 2s/step - loss: 0.1016 - accuracy: 0.9656 - val_loss: 0.2485 - val_accuracy: 0.9286\n",
            "Epoch 49/128\n",
            "3/3 [==============================] - 4s 2s/step - loss: 0.1091 - accuracy: 0.9630 - val_loss: 0.2525 - val_accuracy: 0.9286\n",
            "Epoch 50/128\n",
            "3/3 [==============================] - 4s 2s/step - loss: 0.0977 - accuracy: 0.9630 - val_loss: 0.2502 - val_accuracy: 0.9286\n",
            "Epoch 51/128\n",
            "3/3 [==============================] - 4s 2s/step - loss: 0.0945 - accuracy: 0.9683 - val_loss: 0.2416 - val_accuracy: 0.9286\n",
            "Epoch 52/128\n",
            "3/3 [==============================] - 4s 2s/step - loss: 0.0869 - accuracy: 0.9709 - val_loss: 0.2317 - val_accuracy: 0.9286\n",
            "Epoch 53/128\n",
            "3/3 [==============================] - 4s 2s/step - loss: 0.1036 - accuracy: 0.9709 - val_loss: 0.2419 - val_accuracy: 0.9286\n",
            "Epoch 54/128\n",
            "3/3 [==============================] - 4s 2s/step - loss: 0.0909 - accuracy: 0.9735 - val_loss: 0.2437 - val_accuracy: 0.9048\n",
            "Epoch 55/128\n",
            "3/3 [==============================] - 4s 2s/step - loss: 0.0778 - accuracy: 0.9788 - val_loss: 0.2452 - val_accuracy: 0.9048\n",
            "Epoch 56/128\n",
            "3/3 [==============================] - 4s 2s/step - loss: 0.0976 - accuracy: 0.9709 - val_loss: 0.2544 - val_accuracy: 0.9048\n",
            "Epoch 57/128\n",
            "3/3 [==============================] - 4s 2s/step - loss: 0.0884 - accuracy: 0.9603 - val_loss: 0.2481 - val_accuracy: 0.9048\n",
            "Epoch 58/128\n",
            "3/3 [==============================] - 4s 2s/step - loss: 0.0777 - accuracy: 0.9788 - val_loss: 0.2385 - val_accuracy: 0.9048\n",
            "Epoch 59/128\n",
            "3/3 [==============================] - 4s 2s/step - loss: 0.0805 - accuracy: 0.9788 - val_loss: 0.2349 - val_accuracy: 0.9048\n",
            "Epoch 60/128\n",
            "3/3 [==============================] - 4s 2s/step - loss: 0.0863 - accuracy: 0.9630 - val_loss: 0.2090 - val_accuracy: 0.9286\n",
            "Epoch 61/128\n",
            "3/3 [==============================] - 4s 2s/step - loss: 0.0744 - accuracy: 0.9815 - val_loss: 0.2280 - val_accuracy: 0.9286\n",
            "Epoch 62/128\n",
            "3/3 [==============================] - 4s 2s/step - loss: 0.0693 - accuracy: 0.9762 - val_loss: 0.2324 - val_accuracy: 0.9048\n",
            "Epoch 63/128\n",
            "3/3 [==============================] - 4s 2s/step - loss: 0.0625 - accuracy: 0.9788 - val_loss: 0.2286 - val_accuracy: 0.9048\n",
            "Epoch 64/128\n",
            "3/3 [==============================] - 4s 2s/step - loss: 0.0644 - accuracy: 0.9762 - val_loss: 0.2127 - val_accuracy: 0.9048\n",
            "Epoch 65/128\n",
            "3/3 [==============================] - 5s 2s/step - loss: 0.0705 - accuracy: 0.9735 - val_loss: 0.2147 - val_accuracy: 0.9048\n",
            "Epoch 66/128\n",
            "3/3 [==============================] - 4s 2s/step - loss: 0.0654 - accuracy: 0.9815 - val_loss: 0.2315 - val_accuracy: 0.9048\n",
            "Epoch 67/128\n",
            "3/3 [==============================] - 4s 2s/step - loss: 0.0668 - accuracy: 0.9815 - val_loss: 0.2399 - val_accuracy: 0.9048\n",
            "Epoch 68/128\n",
            "3/3 [==============================] - 4s 2s/step - loss: 0.0554 - accuracy: 0.9788 - val_loss: 0.2334 - val_accuracy: 0.9048\n",
            "Epoch 69/128\n",
            "3/3 [==============================] - 4s 2s/step - loss: 0.0610 - accuracy: 0.9788 - val_loss: 0.2280 - val_accuracy: 0.9048\n",
            "Epoch 70/128\n",
            "3/3 [==============================] - 4s 2s/step - loss: 0.0866 - accuracy: 0.9683 - val_loss: 0.2225 - val_accuracy: 0.9048\n",
            "Epoch 71/128\n",
            "3/3 [==============================] - 4s 2s/step - loss: 0.0621 - accuracy: 0.9815 - val_loss: 0.2245 - val_accuracy: 0.9286\n",
            "Epoch 72/128\n",
            "3/3 [==============================] - 4s 2s/step - loss: 0.0652 - accuracy: 0.9868 - val_loss: 0.2226 - val_accuracy: 0.9048\n",
            "Epoch 73/128\n",
            "3/3 [==============================] - 4s 1s/step - loss: 0.0597 - accuracy: 0.9815 - val_loss: 0.2328 - val_accuracy: 0.9048\n",
            "Epoch 74/128\n",
            "3/3 [==============================] - 4s 2s/step - loss: 0.0566 - accuracy: 0.9841 - val_loss: 0.2229 - val_accuracy: 0.9048\n",
            "Epoch 75/128\n",
            "3/3 [==============================] - 4s 2s/step - loss: 0.0632 - accuracy: 0.9841 - val_loss: 0.2264 - val_accuracy: 0.9048\n",
            "Epoch 76/128\n",
            "3/3 [==============================] - 4s 2s/step - loss: 0.0668 - accuracy: 0.9788 - val_loss: 0.2277 - val_accuracy: 0.9048\n",
            "Epoch 77/128\n",
            "3/3 [==============================] - 4s 2s/step - loss: 0.0759 - accuracy: 0.9683 - val_loss: 0.2146 - val_accuracy: 0.9048\n",
            "Epoch 78/128\n",
            "3/3 [==============================] - 5s 2s/step - loss: 0.0690 - accuracy: 0.9735 - val_loss: 0.2002 - val_accuracy: 0.9048\n",
            "Epoch 79/128\n",
            "3/3 [==============================] - 4s 2s/step - loss: 0.0612 - accuracy: 0.9735 - val_loss: 0.1906 - val_accuracy: 0.9286\n",
            "Epoch 80/128\n",
            "3/3 [==============================] - 4s 2s/step - loss: 0.0477 - accuracy: 0.9868 - val_loss: 0.2014 - val_accuracy: 0.9048\n",
            "Epoch 81/128\n",
            "3/3 [==============================] - 4s 2s/step - loss: 0.0634 - accuracy: 0.9868 - val_loss: 0.2084 - val_accuracy: 0.9286\n",
            "Epoch 82/128\n",
            "3/3 [==============================] - 4s 2s/step - loss: 0.0601 - accuracy: 0.9841 - val_loss: 0.2087 - val_accuracy: 0.9286\n",
            "Epoch 83/128\n",
            "3/3 [==============================] - 5s 2s/step - loss: 0.0687 - accuracy: 0.9815 - val_loss: 0.2155 - val_accuracy: 0.9286\n",
            "Epoch 84/128\n",
            "3/3 [==============================] - 4s 2s/step - loss: 0.0509 - accuracy: 0.9868 - val_loss: 0.2404 - val_accuracy: 0.9286\n",
            "Epoch 85/128\n",
            "3/3 [==============================] - 4s 2s/step - loss: 0.0458 - accuracy: 0.9868 - val_loss: 0.2517 - val_accuracy: 0.9286\n",
            "Epoch 86/128\n",
            "3/3 [==============================] - 4s 2s/step - loss: 0.0516 - accuracy: 0.9868 - val_loss: 0.2524 - val_accuracy: 0.9286\n",
            "Epoch 87/128\n",
            "3/3 [==============================] - 4s 2s/step - loss: 0.0505 - accuracy: 0.9788 - val_loss: 0.2490 - val_accuracy: 0.9286\n",
            "Epoch 88/128\n",
            "3/3 [==============================] - 4s 2s/step - loss: 0.0478 - accuracy: 0.9841 - val_loss: 0.2447 - val_accuracy: 0.9286\n",
            "Epoch 89/128\n",
            "3/3 [==============================] - 5s 2s/step - loss: 0.0515 - accuracy: 0.9868 - val_loss: 0.2441 - val_accuracy: 0.9286\n",
            "Epoch 90/128\n",
            "3/3 [==============================] - 4s 2s/step - loss: 0.0508 - accuracy: 0.9868 - val_loss: 0.2392 - val_accuracy: 0.9286\n",
            "Epoch 91/128\n",
            "3/3 [==============================] - 4s 2s/step - loss: 0.0408 - accuracy: 0.9868 - val_loss: 0.2397 - val_accuracy: 0.9286\n",
            "Epoch 92/128\n",
            "3/3 [==============================] - 4s 2s/step - loss: 0.0342 - accuracy: 0.9947 - val_loss: 0.2473 - val_accuracy: 0.9286\n",
            "Epoch 93/128\n",
            "3/3 [==============================] - 4s 2s/step - loss: 0.0423 - accuracy: 0.9868 - val_loss: 0.2544 - val_accuracy: 0.9048\n",
            "Epoch 94/128\n",
            "3/3 [==============================] - 4s 2s/step - loss: 0.0462 - accuracy: 0.9894 - val_loss: 0.2559 - val_accuracy: 0.9048\n",
            "Epoch 95/128\n",
            "3/3 [==============================] - 4s 2s/step - loss: 0.0460 - accuracy: 0.9894 - val_loss: 0.2562 - val_accuracy: 0.9048\n",
            "Epoch 96/128\n",
            "3/3 [==============================] - 4s 2s/step - loss: 0.0466 - accuracy: 0.9868 - val_loss: 0.2487 - val_accuracy: 0.9048\n",
            "Epoch 97/128\n",
            "3/3 [==============================] - 4s 2s/step - loss: 0.0290 - accuracy: 0.9894 - val_loss: 0.2445 - val_accuracy: 0.9048\n",
            "Epoch 98/128\n",
            "3/3 [==============================] - 4s 2s/step - loss: 0.0478 - accuracy: 0.9841 - val_loss: 0.2504 - val_accuracy: 0.9048\n",
            "Epoch 99/128\n",
            "3/3 [==============================] - 4s 2s/step - loss: 0.0355 - accuracy: 0.9894 - val_loss: 0.2544 - val_accuracy: 0.9048\n",
            "Epoch 100/128\n",
            "3/3 [==============================] - 4s 2s/step - loss: 0.0380 - accuracy: 0.9921 - val_loss: 0.2479 - val_accuracy: 0.9048\n",
            "Epoch 101/128\n",
            "3/3 [==============================] - 4s 2s/step - loss: 0.0250 - accuracy: 0.9921 - val_loss: 0.2424 - val_accuracy: 0.9048\n",
            "Epoch 102/128\n",
            "3/3 [==============================] - 4s 2s/step - loss: 0.0358 - accuracy: 0.9894 - val_loss: 0.2469 - val_accuracy: 0.9048\n",
            "Epoch 103/128\n",
            "3/3 [==============================] - 4s 2s/step - loss: 0.0469 - accuracy: 0.9894 - val_loss: 0.2468 - val_accuracy: 0.9048\n",
            "Epoch 104/128\n",
            "3/3 [==============================] - 4s 2s/step - loss: 0.0329 - accuracy: 0.9894 - val_loss: 0.2483 - val_accuracy: 0.9048\n",
            "Epoch 105/128\n",
            "3/3 [==============================] - 5s 2s/step - loss: 0.0396 - accuracy: 0.9868 - val_loss: 0.2535 - val_accuracy: 0.9048\n",
            "Epoch 106/128\n",
            "3/3 [==============================] - 4s 2s/step - loss: 0.0440 - accuracy: 0.9921 - val_loss: 0.2580 - val_accuracy: 0.9048\n",
            "Epoch 107/128\n",
            "3/3 [==============================] - 4s 2s/step - loss: 0.0290 - accuracy: 0.9921 - val_loss: 0.2521 - val_accuracy: 0.9286\n",
            "Epoch 108/128\n",
            "3/3 [==============================] - 4s 2s/step - loss: 0.0401 - accuracy: 0.9921 - val_loss: 0.2464 - val_accuracy: 0.9286\n",
            "Epoch 109/128\n",
            "3/3 [==============================] - 4s 2s/step - loss: 0.0424 - accuracy: 0.9894 - val_loss: 0.2467 - val_accuracy: 0.9286\n",
            "Epoch 110/128\n",
            "3/3 [==============================] - 4s 2s/step - loss: 0.0432 - accuracy: 0.9815 - val_loss: 0.2397 - val_accuracy: 0.9286\n",
            "Epoch 111/128\n",
            "3/3 [==============================] - 4s 2s/step - loss: 0.0402 - accuracy: 0.9894 - val_loss: 0.2361 - val_accuracy: 0.9048\n",
            "Epoch 112/128\n",
            "3/3 [==============================] - 4s 2s/step - loss: 0.0287 - accuracy: 0.9947 - val_loss: 0.2355 - val_accuracy: 0.9048\n",
            "Epoch 113/128\n",
            "3/3 [==============================] - 4s 2s/step - loss: 0.0271 - accuracy: 0.9921 - val_loss: 0.2343 - val_accuracy: 0.9286\n",
            "Epoch 114/128\n",
            "3/3 [==============================] - 4s 2s/step - loss: 0.0357 - accuracy: 0.9868 - val_loss: 0.2406 - val_accuracy: 0.9286\n",
            "Epoch 115/128\n",
            "3/3 [==============================] - 4s 2s/step - loss: 0.0382 - accuracy: 0.9841 - val_loss: 0.2477 - val_accuracy: 0.9286\n",
            "Epoch 116/128\n",
            "3/3 [==============================] - 4s 2s/step - loss: 0.0325 - accuracy: 0.9868 - val_loss: 0.2541 - val_accuracy: 0.9286\n",
            "Epoch 117/128\n",
            "3/3 [==============================] - 4s 2s/step - loss: 0.0352 - accuracy: 0.9894 - val_loss: 0.2559 - val_accuracy: 0.9286\n",
            "Epoch 118/128\n",
            "3/3 [==============================] - 4s 2s/step - loss: 0.0433 - accuracy: 0.9894 - val_loss: 0.2625 - val_accuracy: 0.9286\n",
            "Epoch 119/128\n",
            "3/3 [==============================] - 4s 2s/step - loss: 0.0281 - accuracy: 0.9868 - val_loss: 0.2624 - val_accuracy: 0.9286\n",
            "Epoch 120/128\n",
            "3/3 [==============================] - 4s 2s/step - loss: 0.0313 - accuracy: 0.9894 - val_loss: 0.2632 - val_accuracy: 0.9286\n",
            "Epoch 121/128\n",
            "3/3 [==============================] - 4s 2s/step - loss: 0.0262 - accuracy: 0.9947 - val_loss: 0.2578 - val_accuracy: 0.9286\n",
            "Epoch 122/128\n",
            "3/3 [==============================] - 4s 2s/step - loss: 0.0372 - accuracy: 0.9868 - val_loss: 0.2580 - val_accuracy: 0.9286\n",
            "Epoch 123/128\n",
            "3/3 [==============================] - 4s 2s/step - loss: 0.0383 - accuracy: 0.9894 - val_loss: 0.2580 - val_accuracy: 0.9286\n",
            "Epoch 124/128\n",
            "3/3 [==============================] - 4s 2s/step - loss: 0.0386 - accuracy: 0.9868 - val_loss: 0.2579 - val_accuracy: 0.9286\n",
            "Epoch 125/128\n",
            "3/3 [==============================] - 4s 2s/step - loss: 0.0429 - accuracy: 0.9868 - val_loss: 0.2575 - val_accuracy: 0.9286\n",
            "Epoch 126/128\n",
            "3/3 [==============================] - 4s 2s/step - loss: 0.0580 - accuracy: 0.9815 - val_loss: 0.2579 - val_accuracy: 0.9286\n",
            "Epoch 127/128\n",
            "3/3 [==============================] - 5s 2s/step - loss: 0.0321 - accuracy: 0.9947 - val_loss: 0.2590 - val_accuracy: 0.9286\n",
            "Epoch 128/128\n",
            "3/3 [==============================] - 4s 2s/step - loss: 0.0389 - accuracy: 0.9815 - val_loss: 0.2603 - val_accuracy: 0.9286\n"
          ]
        }
      ]
    },
    {
      "cell_type": "code",
      "source": [
        "score = model.evaluate(X_test, Y_test, verbose=1)  # Evaluate the trained model on the test set!\n",
        "print(Y_test.shape)\n",
        "print('Test loss:', score[0])\n",
        "print('Test accuracy:', 100*score[1])"
      ],
      "metadata": {
        "colab": {
          "base_uri": "https://localhost:8080/"
        },
        "id": "eQtXafAIkmAv",
        "outputId": "e099997b-7b08-4d55-dd68-0a8246aa67dd"
      },
      "execution_count": null,
      "outputs": [
        {
          "output_type": "stream",
          "name": "stdout",
          "text": [
            "6/6 [==============================] - 19s 2s/step - loss: 0.2307 - accuracy: 0.9278\n",
            "(180, 2)\n",
            "Test loss: 0.23074904084205627\n",
            "Test accuracy: 92.77777671813965\n"
          ]
        }
      ]
    },
    {
      "cell_type": "code",
      "source": [
        "err_hist = history.history\n",
        "pd.DataFrame(err_hist).plot(figsize=(8, 5))\n",
        "plt.grid(True)\n",
        "plt.gca().set_ylim(0, 2) # set the vertical range to [0-1]\n",
        "plt.show()"
      ],
      "metadata": {
        "colab": {
          "base_uri": "https://localhost:8080/",
          "height": 451
        },
        "id": "9QqVU_aPksHq",
        "outputId": "345da7dd-fe51-4e4b-eea0-041a7317a61c"
      },
      "execution_count": null,
      "outputs": [
        {
          "output_type": "display_data",
          "data": {
            "text/plain": [
              "<Figure size 800x500 with 1 Axes>"
            ],
            "image/png": "[encoded data removed]"
          },
          "metadata": {}
        }
      ]
    },
    {
      "cell_type": "code",
      "source": [
        "predictions = model.predict(X_test)\n",
        "\n",
        "cm = confusion_matrix(np.argmax(Y_test, axis=1), np.argmax(predictions,axis=1), labels=np.arange(num_classes))\n",
        "print(cm)\n",
        "clr = classification_report(np.argmax(Y_test, axis=1), np.argmax(predictions,axis=1), labels=np.arange(num_classes), target_names=class_names)\n",
        "print(clr)\n",
        "plt.figure(figsize=(4, 4))\n",
        "sns.heatmap(cm, annot=True, fmt='g', vmin=0, cmap='Blues', cbar=False)\n",
        "plt.xticks(ticks=np.arange(2) + 0.5, labels=class_names, rotation=90)\n",
        "plt.yticks(ticks=np.arange(2) + 0.5, labels=class_names, rotation=0)\n",
        "plt.xlabel(\"Predicted\")\n",
        "plt.ylabel(\"Actual\")\n",
        "plt.title(\"Confusion Matrix\")\n",
        "plt.savefig('Confusion Matrix55.png')\n",
        "plt.show()\n"
      ],
      "metadata": {
        "colab": {
          "base_uri": "https://localhost:8080/",
          "height": 626
        },
        "id": "SNVP3Spv8Cf8",
        "outputId": "9e1ebddd-9377-4ee2-aadd-3c4e41082c00"
      },
      "execution_count": null,
      "outputs": [
        {
          "output_type": "stream",
          "name": "stdout",
          "text": [
            "6/6 [==============================] - 2s 313ms/step\n",
            "[[80  2]\n",
            " [11 87]]\n",
            "              precision    recall  f1-score   support\n",
            "\n",
            "          No       0.88      0.98      0.92        82\n",
            "         Yes       0.98      0.89      0.93        98\n",
            "\n",
            "    accuracy                           0.93       180\n",
            "   macro avg       0.93      0.93      0.93       180\n",
            "weighted avg       0.93      0.93      0.93       180\n",
            "\n"
          ]
        },
        {
          "output_type": "display_data",
          "data": {
            "text/plain": [
              "<Figure size 400x400 with 1 Axes>"
            ],
            "image/png": "[encoded data removed]"
          },
          "metadata": {}
        }
      ]
    },
    {
      "cell_type": "code",
      "source": [
        "\"\"\"\n",
        "#1st convolution layer\n",
        "model.add(Conv2D(32, (33, 33) #32 is number of filters and (3, 3) is the size of the filter.\n",
        "    , input_shape=(300, 300,1) , name='Conv1'))\n",
        "model.add(Activation('relu'))\n",
        "model.add(MaxPooling2D(pool_size=(2,2)))\n",
        "\n",
        "model.add(Conv2D(64,(33, 33), name='Conv2')) # apply 64 filters sized of (3x3) on 2nd convolution layer\n",
        "model.add(Activation('relu'))\n",
        "model.add(MaxPooling2D(pool_size=(2,2)))\n",
        "\n",
        "model.add(Conv2D(128,(33, 33), name='Conv3')) # apply 64 filters sized of (3x3) on 2nd convolution layer\n",
        "model.add(Activation('relu'))\n",
        "model.add(MaxPooling2D(pool_size=(2,2)))\n",
        "\"\"\""
      ],
      "metadata": {
        "colab": {
          "base_uri": "https://localhost:8080/",
          "height": 105
        },
        "id": "G_NS3a387G0v",
        "outputId": "72ed55e2-8af7-43e0-d9b2-8166825fe73c"
      },
      "execution_count": null,
      "outputs": [
        {
          "output_type": "execute_result",
          "data": {
            "text/plain": [
              "\"\\n#1st convolution layer\\nmodel.add(Conv2D(32, (33, 33) #32 is number of filters and (3, 3) is the size of the filter.\\n    , input_shape=(300, 300,1) , name='Conv1'))\\nmodel.add(Activation('relu'))\\nmodel.add(MaxPooling2D(pool_size=(2,2)))\\n\\nmodel.add(Conv2D(64,(33, 33), name='Conv2')) # apply 64 filters sized of (3x3) on 2nd convolution layer\\nmodel.add(Activation('relu'))\\nmodel.add(MaxPooling2D(pool_size=(2,2)))\\n\\nmodel.add(Conv2D(128,(33, 33), name='Conv3')) # apply 64 filters sized of (3x3) on 2nd convolution layer\\nmodel.add(Activation('relu'))\\nmodel.add(MaxPooling2D(pool_size=(2,2)))\\n\""
            ],
            "application/vnd.google.colaboratory.intrinsic+json": {
              "type": "string"
            }
          },
          "metadata": {},
          "execution_count": 13
        }
      ]
    }
  ]
}